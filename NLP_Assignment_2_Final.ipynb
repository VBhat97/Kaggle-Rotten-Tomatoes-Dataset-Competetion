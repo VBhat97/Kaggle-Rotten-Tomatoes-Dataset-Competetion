{
  "nbformat": 4,
  "nbformat_minor": 0,
  "metadata": {
    "colab": {
      "name": "NLP Assignment 2 Final.ipynb",
      "provenance": [],
      "collapsed_sections": []
    },
    "kernelspec": {
      "name": "python3",
      "display_name": "Python 3"
    },
    "accelerator": "GPU"
  },
  "cells": [
    {
      "cell_type": "code",
      "metadata": {
        "id": "zu9IUXTIORIG",
        "colab_type": "code",
        "colab": {}
      },
      "source": [
        "import pandas as pd\n",
        "data = pd.read_csv('https://raw.githubusercontent.com/cacoderquan/Sentiment-Analysis-on-the-Rotten-Tomatoes-movie-review-dataset/master/train.tsv',delimiter='\\t')"
      ],
      "execution_count": 0,
      "outputs": []
    },
    {
      "cell_type": "code",
      "metadata": {
        "id": "7k7ctUoYOcMH",
        "colab_type": "code",
        "outputId": "8c588786-faf8-409d-80d1-a7b377a4dcd0",
        "colab": {
          "base_uri": "https://localhost:8080/",
          "height": 118
        }
      },
      "source": [
        "import nltk\n",
        "nltk.download('punkt')\n",
        "nltk.download('wordnet')\n",
        "nltk.download('stopwords')\n",
        "from nltk.corpus import stopwords\n",
        "from nltk.tokenize import word_tokenize\n",
        "from nltk.stem import WordNetLemmatizer\n",
        "lemmatizer = WordNetLemmatizer()\n",
        "import re\n",
        "stop_words = set(stopwords.words('english')) "
      ],
      "execution_count": 2,
      "outputs": [
        {
          "output_type": "stream",
          "text": [
            "[nltk_data] Downloading package punkt to /root/nltk_data...\n",
            "[nltk_data]   Package punkt is already up-to-date!\n",
            "[nltk_data] Downloading package wordnet to /root/nltk_data...\n",
            "[nltk_data]   Package wordnet is already up-to-date!\n",
            "[nltk_data] Downloading package stopwords to /root/nltk_data...\n",
            "[nltk_data]   Package stopwords is already up-to-date!\n"
          ],
          "name": "stdout"
        }
      ]
    },
    {
      "cell_type": "code",
      "metadata": {
        "id": "kATU_WqgOegl",
        "colab_type": "code",
        "outputId": "bf32f8c4-17b2-4417-eb97-d6991962179f",
        "colab": {
          "base_uri": "https://localhost:8080/",
          "height": 79
        }
      },
      "source": [
        "from keras.utils import to_categorical\n",
        "import random\n",
        "from sklearn.model_selection import train_test_split\n",
        "from keras.preprocessing import sequence\n",
        "from keras.preprocessing.text import Tokenizer\n",
        "from keras.layers import Dense,Dropout,Embedding\n",
        "from keras.callbacks import EarlyStopping\n",
        "from keras.losses import categorical_crossentropy\n",
        "from keras.optimizers import Adam\n",
        "from keras.models import Sequential"
      ],
      "execution_count": 3,
      "outputs": [
        {
          "output_type": "stream",
          "text": [
            "Using TensorFlow backend.\n"
          ],
          "name": "stderr"
        },
        {
          "output_type": "display_data",
          "data": {
            "text/html": [
              "<p style=\"color: red;\">\n",
              "The default version of TensorFlow in Colab will soon switch to TensorFlow 2.x.<br>\n",
              "We recommend you <a href=\"https://www.tensorflow.org/guide/migrate\" target=\"_blank\">upgrade</a> now \n",
              "or ensure your notebook will continue to use TensorFlow 1.x via the <code>%tensorflow_version 1.x</code> magic:\n",
              "<a href=\"https://colab.research.google.com/notebooks/tensorflow_version.ipynb\" target=\"_blank\">more info</a>.</p>\n"
            ],
            "text/plain": [
              "<IPython.core.display.HTML object>"
            ]
          },
          "metadata": {
            "tags": []
          }
        }
      ]
    },
    {
      "cell_type": "code",
      "metadata": {
        "id": "ZE67IMfoOg1e",
        "colab_type": "code",
        "colab": {}
      },
      "source": [
        "#Function to clean the dataset by removing non alphabetic characters, tokenization, lemmatization and removal of stopwords\n",
        "def process_data(df):\n",
        "    reviews = []\n",
        "\n",
        "    for sent in df['Phrase']:\n",
        "        review_text = re.sub(\"[^a-zA-Z]\",\" \", sent)\n",
        "        words = word_tokenize(review_text.lower())\n",
        "        lemma_words = [lemmatizer.lemmatize(i) for i in words]\n",
        "        no_stop_words=[w for w in lemma_words if not w in stop_words]\n",
        "        reviews.append(no_stop_words)\n",
        "\n",
        "    return(reviews)"
      ],
      "execution_count": 0,
      "outputs": []
    },
    {
      "cell_type": "code",
      "metadata": {
        "id": "jhKpNBtzPGB3",
        "colab_type": "code",
        "colab": {}
      },
      "source": [
        "train_sentences = process_data(data)"
      ],
      "execution_count": 0,
      "outputs": []
    },
    {
      "cell_type": "code",
      "metadata": {
        "id": "6hgvMhKdUDTR",
        "colab_type": "code",
        "colab": {}
      },
      "source": [
        "#Converting the labels to one hot encode\n",
        "target=data.Sentiment.values\n",
        "y_target=to_categorical(target)\n",
        "num_classes=y_target.shape[1]"
      ],
      "execution_count": 0,
      "outputs": []
    },
    {
      "cell_type": "code",
      "metadata": {
        "id": "FcfGf5y3UP7s",
        "colab_type": "code",
        "colab": {}
      },
      "source": [
        "#Function to find the size of vocabulary of the unique words and maximum length of a phrase for padding\n",
        "unique_words = set()\n",
        "len_max = 0\n",
        "\n",
        "for sent in train_sentences:\n",
        "    unique_words.update(sent)\n",
        "    if(len_max<len(sent)):\n",
        "        len_max = len(sent)"
      ],
      "execution_count": 0,
      "outputs": []
    },
    {
      "cell_type": "code",
      "metadata": {
        "id": "PwXmNKVTUGIb",
        "colab_type": "code",
        "colab": {}
      },
      "source": [
        "#Dividing training and testing into 70% and 30%\n",
        "from sklearn.model_selection import train_test_split\n",
        "X_train, X_val, Y_train, Y_val = train_test_split(train_sentences, y_target, test_size=0.3, random_state=2003)"
      ],
      "execution_count": 0,
      "outputs": []
    },
    {
      "cell_type": "code",
      "metadata": {
        "id": "G2Gk4Y9NUHg2",
        "colab_type": "code",
        "colab": {}
      },
      "source": [
        "#Creating vocabulary for training and testing separately and padding them according to the maxlen.\n",
        "tokenizer = Tokenizer(num_words=len(list(unique_words)))\n",
        "tokenizer.fit_on_texts(list(X_train))\n",
        "X_train = tokenizer.texts_to_sequences(X_train)\n",
        "X_train= sequence.pad_sequences(X_train, maxlen=len_max)\n",
        "X_val = tokenizer.texts_to_sequences(X_val)\n",
        "X_val= sequence.pad_sequences(X_val, maxlen=len_max)"
      ],
      "execution_count": 0,
      "outputs": []
    },
    {
      "cell_type": "code",
      "metadata": {
        "id": "4I9gVju5U2NP",
        "colab_type": "code",
        "colab": {}
      },
      "source": [
        "from keras.layers import Conv1D, GlobalMaxPool1D, Dense, MaxPooling1D, Embedding, Activation, Input\n",
        "from keras.models import Sequential\n",
        "from keras.callbacks import EarlyStopping"
      ],
      "execution_count": 0,
      "outputs": []
    },
    {
      "cell_type": "code",
      "metadata": {
        "id": "Fj7OH7UwJYfz",
        "colab_type": "code",
        "colab": {}
      },
      "source": [
        "#Early stopping to prevent the model from giving validation accuracy due to overfitting\n",
        "early_stopping=EarlyStopping(min_delta=0.001, mode='max', monitor='val_acc',patience=0)\n",
        "callback=[early_stopping]"
      ],
      "execution_count": 0,
      "outputs": []
    },
    {
      "cell_type": "code",
      "metadata": {
        "id": "UECmkY08U-Nq",
        "colab_type": "code",
        "outputId": "fda52ce9-3ff3-4f76-a910-fc63a70804a4",
        "colab": {
          "base_uri": "https://localhost:8080/",
          "height": 608
        }
      },
      "source": [
        "model = Sequential()\n",
        "model.add(Embedding(len(list(unique_words)),300,input_length=len_max))\n",
        "model.add(Conv1D(256, 2, activation=\"relu\"))\n",
        "model.add(MaxPooling1D())\n",
        "model.add(GlobalMaxPool1D())\n",
        "model.add(Dense(100, activation = 'relu'))\n",
        "model.add(Dense(100, activation = 'relu'))\n",
        "model.add(Dense(num_classes,activation='softmax'))\n",
        "model.compile(loss = 'categorical_crossentropy', optimizer = \"adam\",metrics = ['accuracy'])\n",
        "model.summary()"
      ],
      "execution_count": 12,
      "outputs": [
        {
          "output_type": "stream",
          "text": [
            "WARNING:tensorflow:From /usr/local/lib/python3.6/dist-packages/keras/backend/tensorflow_backend.py:66: The name tf.get_default_graph is deprecated. Please use tf.compat.v1.get_default_graph instead.\n",
            "\n",
            "WARNING:tensorflow:From /usr/local/lib/python3.6/dist-packages/keras/backend/tensorflow_backend.py:541: The name tf.placeholder is deprecated. Please use tf.compat.v1.placeholder instead.\n",
            "\n",
            "WARNING:tensorflow:From /usr/local/lib/python3.6/dist-packages/keras/backend/tensorflow_backend.py:4432: The name tf.random_uniform is deprecated. Please use tf.random.uniform instead.\n",
            "\n",
            "WARNING:tensorflow:From /usr/local/lib/python3.6/dist-packages/keras/backend/tensorflow_backend.py:4267: The name tf.nn.max_pool is deprecated. Please use tf.nn.max_pool2d instead.\n",
            "\n",
            "WARNING:tensorflow:From /usr/local/lib/python3.6/dist-packages/keras/optimizers.py:793: The name tf.train.Optimizer is deprecated. Please use tf.compat.v1.train.Optimizer instead.\n",
            "\n",
            "WARNING:tensorflow:From /usr/local/lib/python3.6/dist-packages/keras/backend/tensorflow_backend.py:3576: The name tf.log is deprecated. Please use tf.math.log instead.\n",
            "\n",
            "Model: \"sequential_1\"\n",
            "_________________________________________________________________\n",
            "Layer (type)                 Output Shape              Param #   \n",
            "=================================================================\n",
            "embedding_1 (Embedding)      (None, 31, 300)           4085100   \n",
            "_________________________________________________________________\n",
            "conv1d_1 (Conv1D)            (None, 30, 256)           153856    \n",
            "_________________________________________________________________\n",
            "max_pooling1d_1 (MaxPooling1 (None, 15, 256)           0         \n",
            "_________________________________________________________________\n",
            "global_max_pooling1d_1 (Glob (None, 256)               0         \n",
            "_________________________________________________________________\n",
            "dense_1 (Dense)              (None, 100)               25700     \n",
            "_________________________________________________________________\n",
            "dense_2 (Dense)              (None, 100)               10100     \n",
            "_________________________________________________________________\n",
            "dense_3 (Dense)              (None, 5)                 505       \n",
            "=================================================================\n",
            "Total params: 4,275,261\n",
            "Trainable params: 4,275,261\n",
            "Non-trainable params: 0\n",
            "_________________________________________________________________\n"
          ],
          "name": "stdout"
        }
      ]
    },
    {
      "cell_type": "code",
      "metadata": {
        "id": "o2gzXNzBVA_p",
        "colab_type": "code",
        "outputId": "d4adfdb1-2195-4c6e-af9c-9c3fc668ebf5",
        "colab": {
          "base_uri": "https://localhost:8080/",
          "height": 474
        }
      },
      "source": [
        "history=model.fit(X_train, Y_train, batch_size=300,epochs=50, verbose=1,validation_data=(X_val, Y_val),callbacks=callback)"
      ],
      "execution_count": 13,
      "outputs": [
        {
          "output_type": "stream",
          "text": [
            "WARNING:tensorflow:From /tensorflow-1.15.0/python3.6/tensorflow_core/python/ops/math_grad.py:1424: where (from tensorflow.python.ops.array_ops) is deprecated and will be removed in a future version.\n",
            "Instructions for updating:\n",
            "Use tf.where in 2.0, which has the same broadcast rule as np.where\n",
            "WARNING:tensorflow:From /usr/local/lib/python3.6/dist-packages/keras/backend/tensorflow_backend.py:1033: The name tf.assign_add is deprecated. Please use tf.compat.v1.assign_add instead.\n",
            "\n",
            "WARNING:tensorflow:From /usr/local/lib/python3.6/dist-packages/keras/backend/tensorflow_backend.py:1020: The name tf.assign is deprecated. Please use tf.compat.v1.assign instead.\n",
            "\n",
            "WARNING:tensorflow:From /usr/local/lib/python3.6/dist-packages/keras/backend/tensorflow_backend.py:3005: The name tf.Session is deprecated. Please use tf.compat.v1.Session instead.\n",
            "\n",
            "Train on 109242 samples, validate on 46818 samples\n",
            "Epoch 1/50\n",
            "WARNING:tensorflow:From /usr/local/lib/python3.6/dist-packages/keras/backend/tensorflow_backend.py:190: The name tf.get_default_session is deprecated. Please use tf.compat.v1.get_default_session instead.\n",
            "\n",
            "WARNING:tensorflow:From /usr/local/lib/python3.6/dist-packages/keras/backend/tensorflow_backend.py:197: The name tf.ConfigProto is deprecated. Please use tf.compat.v1.ConfigProto instead.\n",
            "\n",
            "WARNING:tensorflow:From /usr/local/lib/python3.6/dist-packages/keras/backend/tensorflow_backend.py:207: The name tf.global_variables is deprecated. Please use tf.compat.v1.global_variables instead.\n",
            "\n",
            "WARNING:tensorflow:From /usr/local/lib/python3.6/dist-packages/keras/backend/tensorflow_backend.py:216: The name tf.is_variable_initialized is deprecated. Please use tf.compat.v1.is_variable_initialized instead.\n",
            "\n",
            "WARNING:tensorflow:From /usr/local/lib/python3.6/dist-packages/keras/backend/tensorflow_backend.py:223: The name tf.variables_initializer is deprecated. Please use tf.compat.v1.variables_initializer instead.\n",
            "\n",
            "109242/109242 [==============================] - 6s 55us/step - loss: 1.0108 - acc: 0.5968 - val_loss: 0.8634 - val_acc: 0.6481\n",
            "Epoch 2/50\n",
            "109242/109242 [==============================] - 4s 33us/step - loss: 0.7633 - acc: 0.6864 - val_loss: 0.8270 - val_acc: 0.6615\n",
            "Epoch 3/50\n",
            "109242/109242 [==============================] - 4s 33us/step - loss: 0.6592 - acc: 0.7216 - val_loss: 0.8475 - val_acc: 0.6547\n"
          ],
          "name": "stdout"
        }
      ]
    },
    {
      "cell_type": "code",
      "metadata": {
        "id": "dsGBcB86zaKj",
        "colab_type": "code",
        "outputId": "205a4d07-b2fb-4b2a-cab7-b35724baa24a",
        "colab": {
          "base_uri": "https://localhost:8080/",
          "height": 295
        }
      },
      "source": [
        "import matplotlib.pyplot as plt\n",
        "plt.plot(history.history['acc'])\n",
        "plt.plot(history.history['val_acc'])\n",
        "plt.title('model accuracy')\n",
        "plt.ylabel('accuracy')\n",
        "plt.xlabel('epoch')\n",
        "plt.legend(['train', 'test'], loc='upper left')\n",
        "plt.show()"
      ],
      "execution_count": 14,
      "outputs": [
        {
          "output_type": "display_data",
          "data": {
            "image/png": "[encoded data removed]",
            "text/plain": [
              "<Figure size 432x288 with 1 Axes>"
            ]
          },
          "metadata": {
            "tags": []
          }
        }
      ]
    },
    {
      "cell_type": "code",
      "metadata": {
        "id": "y-XBjIBg0RVw",
        "colab_type": "code",
        "outputId": "45f6b930-a855-4318-eee8-63d3cb684bef",
        "colab": {
          "base_uri": "https://localhost:8080/",
          "height": 295
        }
      },
      "source": [
        "plt.plot(history.history['loss'])\n",
        "plt.plot(history.history['val_loss'])\n",
        "plt.title('model loss')\n",
        "plt.ylabel('loss')\n",
        "plt.xlabel('epoch')\n",
        "plt.legend(['train', 'test'], loc='upper left')\n",
        "plt.show()"
      ],
      "execution_count": 15,
      "outputs": [
        {
          "output_type": "display_data",
          "data": {
            "image/png": "[encoded data removed]",
            "text/plain": [
              "<Figure size 432x288 with 1 Axes>"
            ]
          },
          "metadata": {
            "tags": []
          }
        }
      ]
    },
    {
      "cell_type": "code",
      "metadata": {
        "id": "tTfZU_z2VLfq",
        "colab_type": "code",
        "colab": {}
      },
      "source": [
        "result=model.predict(X_val)\n",
        "y_pred=result.argmax(axis=1)\n",
        "Y_val=Y_val.argmax(axis=1)"
      ],
      "execution_count": 0,
      "outputs": []
    },
    {
      "cell_type": "code",
      "metadata": {
        "id": "TcP7DPdIVOjU",
        "colab_type": "code",
        "outputId": "3b6ad7ca-7fd7-49ea-d167-5bdb1da791fa",
        "colab": {
          "base_uri": "https://localhost:8080/",
          "height": 84
        }
      },
      "source": [
        "from sklearn.metrics import accuracy_score, precision_score,recall_score,f1_score\n",
        "\n",
        "print(\"Accuracy : \"+ str(accuracy_score(Y_val, y_pred)))\n",
        "print(\"Precisions : \" + str(precision_score(Y_val, y_pred,average='weighted')))\n",
        "print(\"Recall : \"+ str(recall_score(Y_val, y_pred,average='weighted')))\n",
        "print(\"F1 Score : \" + str(f1_score(Y_val, y_pred,average='weighted')))"
      ],
      "execution_count": 17,
      "outputs": [
        {
          "output_type": "stream",
          "text": [
            "Accuracy : 0.6547054551668162\n",
            "Precisions : 0.6592244224073915\n",
            "Recall : 0.6547054551668162\n",
            "F1 Score : 0.6524445269444893\n"
          ],
          "name": "stdout"
        }
      ]
    },
    {
      "cell_type": "code",
      "metadata": {
        "id": "UpD68QwaSSMp",
        "colab_type": "code",
        "colab": {}
      },
      "source": [
        "model.save(\"1107179_1dcov_reg.h5\")"
      ],
      "execution_count": 0,
      "outputs": []
    },
    {
      "cell_type": "code",
      "metadata": {
        "id": "TfNQ9A2VVuF7",
        "colab_type": "code",
        "colab": {}
      },
      "source": [
        "#How to load my model\n",
        "# import keras\n",
        "# new = keras.models.load_model('1107179_1dcov_reg.h5')"
      ],
      "execution_count": 0,
      "outputs": []
    }
  ]
}